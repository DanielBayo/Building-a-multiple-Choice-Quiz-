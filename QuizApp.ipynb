question_prompt= [
  "Which chess piece is of the lowest relative value?\n(a) Pawn\n(b) Bishop\n(c) Knight\n(d) Castle\n\n",
  "Which musical instrument was invented by Belgian Adolphe Sax?\n(a) Tuba\n(b) Trumpet\n(c) Saxophone\n(d) Euphonium\n\n",
  "Which what is the Capital of Canada?\n(a) Monthreal\n(b) Ottawa\n(c) Toronto\n(d) Vancouver\n\n"
]
